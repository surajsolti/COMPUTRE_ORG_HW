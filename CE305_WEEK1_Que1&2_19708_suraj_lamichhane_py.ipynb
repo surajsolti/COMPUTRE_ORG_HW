{
  "nbformat": 4,
  "nbformat_minor": 0,
  "metadata": {
    "colab": {
      "provenance": [],
      "authorship_tag": "ABX9TyOXABMbNfxtbL4jMhLBZq4l",
      "include_colab_link": true
    },
    "kernelspec": {
      "name": "python3",
      "display_name": "Python 3"
    },
    "language_info": {
      "name": "python"
    }
  },
  "cells": [
    {
      "cell_type": "markdown",
      "metadata": {
        "id": "view-in-github",
        "colab_type": "text"
      },
      "source": [
        "<a href=\"https://colab.research.google.com/github/surajsolti/COMPUTRE_ORG_HW/blob/main/CE305_WEEK1_Que1%262_19708_suraj_lamichhane_py.ipynb\" target=\"_parent\"><img src=\"https://colab.research.google.com/assets/colab-badge.svg\" alt=\"Open In Colab\"/></a>"
      ]
    },
    {
      "cell_type": "code",
      "execution_count": 25,
      "metadata": {
        "colab": {
          "base_uri": "https://localhost:8080/"
        },
        "id": "Y9IAEp5KWc1k",
        "outputId": "31de87d0-4335-43a8-fd65-89ff2be0a95c"
      },
      "outputs": [
        {
          "output_type": "stream",
          "name": "stdout",
          "text": [
            "Enter the number to convert: 1234\n",
            "Enter the base of the input number: 10\n",
            "Enter the base to convert to: 2\n",
            "Decimal equivalent: 1234\n",
            "Result: 10011010010\n"
          ]
        }
      ],
      "source": [
        "#Question no.1\n",
        "# Function to convert a character to its corresponding value in the given base\n",
        "def val(c):\n",
        "    if '0' <= c <= '9':\n",
        "        return int(c) - int('0')  # If the character is a digit, return its integer value\n",
        "    else:\n",
        "        return ord(c) - ord('A') + 10  # If the character is a letter, return its integer value in base 10\n",
        "\n",
        "\n",
        "# Function to check if the input number is valid for the given base\n",
        "def is_valid_number(s, base):\n",
        "    if base < 2:\n",
        "        return False  # Base must be at least 2 for a valid number\n",
        "    for c in s:\n",
        "        if val(c) >= base:\n",
        "            return False  # The digit must be less than the base\n",
        "    return True  # The number is valid for the given base\n",
        "\n",
        "\n",
        "# Function to convert a number in a given base to decimal\n",
        "def to_deci(s, base):\n",
        "    length = len(s)\n",
        "    power = 1\n",
        "    num = 0\n",
        "\n",
        "    for i in range(length - 1, -1, -1):\n",
        "        if val(s[i]) >= base:\n",
        "            print(\"Invalid Number\")  # If a digit is not valid for the base, print an error message\n",
        "            return -1  # Return -1 to indicate an error\n",
        "\n",
        "        num += val(s[i]) * power\n",
        "        power *= base\n",
        "\n",
        "    return num  # Return the decimal equivalent of the number\n",
        "\n",
        "\n",
        "# Function to convert a decimal number to a given base\n",
        "def to_base(decimal, target_base):\n",
        "    result = []\n",
        "    while decimal > 0:\n",
        "        remainder = decimal % target_base\n",
        "        if remainder < 10:\n",
        "            result.append(chr(remainder + ord('0')))  # If the remainder is a digit, store it as a character\n",
        "        else:\n",
        "            result.append(chr(remainder - 10 + ord('A')))  # If the remainder is a letter, store it as a character\n",
        "        decimal //= target_base\n",
        "\n",
        "    print(\"Result:\", end=\" \")\n",
        "    for c in reversed(result):\n",
        "        print(c, end=\"\")  # Print the result in reverse order\n",
        "    print()\n",
        "\n",
        "\n",
        "def main():\n",
        "    str_input = input(\"Enter the number to convert: \")\n",
        "    from_base = int(input(\"Enter the base of the input number: \"))\n",
        "    target_base = int(input(\"Enter the base to convert to: \"))\n",
        "\n",
        "    if is_valid_number(str_input, from_base):\n",
        "        decimal = to_deci(str_input, from_base)\n",
        "        if decimal != -1:\n",
        "            print(\"Decimal equivalent:\", decimal)\n",
        "            to_base(decimal, target_base)\n",
        "    else:\n",
        "        print(\"Error: Invalid input\")\n",
        "\n",
        "\n",
        "if __name__ == \"__main__\":\n",
        "    main()\n"
      ]
    },
    {
      "cell_type": "code",
      "source": [
        "#Question no.2\n",
        "def floating_model(floating_dec):\n",
        "    # Check if the number is negative\n",
        "    if floating_dec < 0:\n",
        "        sign_bit = '1'\n",
        "        floating_dec = abs(floating_dec)\n",
        "    else:\n",
        "        sign_bit = '0'\n",
        "\n",
        "    # Extract the integer and fractional parts\n",
        "    integer_part = int(floating_dec)\n",
        "    fractional_part = floating_dec - integer_part\n",
        "\n",
        "    # Convert the integer part to binary\n",
        "    integer_binary = bin(integer_part)[2:]\n",
        "\n",
        "    # Initialize variables for the fractional part and exponent\n",
        "    fractional_binary = \"\"\n",
        "    exponent = 0\n",
        "\n",
        "    # Calculate the binary representation of the fractional part\n",
        "    while fractional_part != 0 and len(fractional_binary) < 8:\n",
        "        fractional_part *= 2\n",
        "        bit = int(fractional_part)\n",
        "        fractional_binary += str(bit)\n",
        "        fractional_part -= bit\n",
        "        exponent -= 1\n",
        "\n",
        "    # Normalize the fractional binary representation\n",
        "    normalized_binary = integer_binary + fractional_binary\n",
        "\n",
        "    # Pad or trim the significand to 8 bits\n",
        "    significand = normalized_binary[1:9].ljust(8, '0')\n",
        "\n",
        "    # Calculate the 5-bit binary exponent\n",
        "    exponent_binary = bin(exponent + 16)[2:].rjust(5, '0')\n",
        "\n",
        "    # Combine all the parts to form the 14-bit representation\n",
        "    result = sign_bit + exponent_binary + significand\n",
        "\n",
        "    return result\n",
        "\n",
        "# Test the function with the example -26.625\n",
        "floating_dec = -26.625\n",
        "binary_representation = floating_model(floating_dec)\n",
        "print(binary_representation)\n"
      ],
      "metadata": {
        "colab": {
          "base_uri": "https://localhost:8080/"
        },
        "id": "mP6ntXkGcgA1",
        "outputId": "cc5dafe6-91ac-4030-bdbc-4e1f4acf2a73"
      },
      "execution_count": 31,
      "outputs": [
        {
          "output_type": "stream",
          "name": "stdout",
          "text": [
            "10110110101010\n"
          ]
        }
      ]
    }
  ]
}