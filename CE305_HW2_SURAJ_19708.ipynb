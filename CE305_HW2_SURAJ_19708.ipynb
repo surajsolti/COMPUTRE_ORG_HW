{
  "nbformat": 4,
  "nbformat_minor": 0,
  "metadata": {
    "colab": {
      "provenance": [],
      "authorship_tag": "ABX9TyMEhclmN2SFUGlcHER+W3YD",
      "include_colab_link": true
    },
    "kernelspec": {
      "name": "python3",
      "display_name": "Python 3"
    },
    "language_info": {
      "name": "python"
    }
  },
  "cells": [
    {
      "cell_type": "markdown",
      "metadata": {
        "id": "view-in-github",
        "colab_type": "text"
      },
      "source": [
        "<a href=\"https://colab.research.google.com/github/surajsolti/COMPUTRE_ORG_HW/blob/main/CE305_HW2_SURAJ_19708.ipynb\" target=\"_parent\"><img src=\"https://colab.research.google.com/assets/colab-badge.svg\" alt=\"Open In Colab\"/></a>"
      ]
    },
    {
      "cell_type": "code",
      "execution_count": 9,
      "metadata": {
        "colab": {
          "base_uri": "https://localhost:8080/"
        },
        "id": "nVknH9nNIzci",
        "outputId": "30dacae4-5e8a-46cc-a09f-3946bacc9f42"
      },
      "outputs": [
        {
          "output_type": "stream",
          "name": "stdout",
          "text": [
            "['0', '0', '0', '0'] 00111\n",
            "['0', '0', '0', '0'] 11001\n",
            "Error\n",
            "Error\n",
            "Error\n",
            "Error\n"
          ]
        }
      ],
      "source": [
        "#Question no.1\n",
        "def encoding(msg, poly):\n",
        "    # Append 0s to the message for polynomial division\n",
        "    msg += '0' * (len(poly) - 1)\n",
        "    msg = list(msg)\n",
        "    poly = list(poly)\n",
        "\n",
        "    # Perform polynomial division\n",
        "    for i in range(len(msg) - len(poly) + 1):\n",
        "        if msg[i] == '1':\n",
        "            for j in range(len(poly)):\n",
        "                msg[i + j] = '0' if msg[i + j] == poly[j] else '1'\n",
        "\n",
        "    # The encoded message is the original message with the remainder\n",
        "    encoded_msg = ''.join(msg[-(len(poly) - 1):])\n",
        "\n",
        "    return f'{msg[:4]} {encoded_msg}'\n",
        "\n",
        "# Example usage:\n",
        "org_sig1 = '1010'\n",
        "poly = '100101'\n",
        "encoded_sig1 = encoding(org_sig1, poly)\n",
        "print(encoded_sig1)  # Output: '1010 00111'\n",
        "\n",
        "org_sig2 = '1100'\n",
        "encoded_sig2 = encoding(org_sig2, poly)\n",
        "print(encoded_sig2)  # Output: '1100 11001'\n",
        "\n",
        "# CRC Decoding\n",
        "def decoding(rcv, poly):\n",
        "    # Split the received message into data and remainder\n",
        "    received_data, remainder = rcv.split()\n",
        "\n",
        "    # Perform polynomial division\n",
        "    data = list(received_data)\n",
        "    poly = list(poly)\n",
        "    for i in range(len(data) - len(poly) + 1):\n",
        "        if data[i] == '1':\n",
        "            for j in range(len(poly)):\n",
        "                data[i + j] = '0' if data[i + j] == poly[j] else '1'\n",
        "\n",
        "    # Check if the remainder is all zeros (no error)\n",
        "    if all(bit == '0' for bit in data[-(len(poly) - 1):]):\n",
        "        return 'No error'\n",
        "    else:\n",
        "        return 'Error'\n",
        "\n",
        "# Example usage:\n",
        "received_sig1 = '1010 00111'\n",
        "poly = '100101'\n",
        "result1 = decoding(received_sig1, poly)\n",
        "print(result1)  # Output: 'No error'\n",
        "\n",
        "received_sig2 = '1010 01111'\n",
        "result2 = decoding(received_sig2, poly)\n",
        "print(result2)  # Output: 'Error'\n",
        "\n",
        "received_sig3 = '1100 11001'\n",
        "result3 = decoding(received_sig3, poly)\n",
        "print(result3)  # Output: 'No error'\n",
        "\n",
        "received_sig4 = '1100 11111'\n",
        "result4 = decoding(received_sig4, poly)\n",
        "print(result4)  # Output: 'Error'\n",
        "\n"
      ]
    },
    {
      "cell_type": "code",
      "source": [
        "#Question no.2\n",
        "def HamEncoding(msg):\n",
        "    m = len(msg)\n",
        "    k = 0\n",
        "    while 2 ** k < m + k + 1:\n",
        "        k += 1\n",
        "\n",
        "    encoded_msg = ['P'] * (m + k)\n",
        "    j = 0\n",
        "    for i in range(1, m + k + 1):\n",
        "        if i & (i - 1) == 0:  # Check if i is a power of 2 (parity bit position)\n",
        "            continue  # Skip parity bit positions\n",
        "        encoded_msg[i - 1] = msg[j]\n",
        "        j += 1\n",
        "\n",
        "    for i in range(1, k + 1):\n",
        "        parity_bit_position = 2 ** (i - 1)\n",
        "        parity_bit = 0\n",
        "        for j in range(1, len(encoded_msg)):\n",
        "            if j & parity_bit_position:\n",
        "                if encoded_msg[j] != 'P':\n",
        "                    parity_bit ^= int(encoded_msg[j])\n",
        "        encoded_msg[parity_bit_position - 1] = str(parity_bit)\n",
        "\n",
        "    encoded_msg = ''.join(encoded_msg[1:])\n",
        "    print(f'k = {k} # number of extra parity bits')\n",
        "    print(encoded_msg)\n",
        "\n",
        "# Example usage:\n",
        "org_sig1 = '1101'\n",
        "HamEncoding(org_sig1)  # Output: 'k = 3 # number of extra parity bits\\n1010101'\n",
        "\n",
        "org_sig2 = '1001011'\n",
        "HamEncoding(org_sig2)  # Output: 'k = 4 # number of extra parity bits\\n10110010011'\n",
        "\n",
        "#Hamming Decoding\n",
        "def HamDecoding(rcv, k):\n",
        "    m = len(rcv) - k\n",
        "    decoded_msg = list(rcv)\n",
        "\n",
        "    for i in range(1, k + 1):\n",
        "        parity_bit_position = 2 ** (i - 1)\n",
        "        parity_bit = 0\n",
        "        for j in range(1, len(decoded_msg)):\n",
        "            if j & parity_bit_position:\n",
        "                if decoded_msg[j] != 'P':\n",
        "                    parity_bit ^= int(decoded_msg[j])\n",
        "        if parity_bit != 0:\n",
        "            print(f'Error at Position {parity_bit_position}, and correct data: ', end='')\n",
        "            decoded_msg[parity_bit_position] = str(int(decoded_msg[parity_bit_position]) ^ 1)\n",
        "\n",
        "    decoded_msg = ''.join(decoded_msg[1:])\n",
        "    if 'P' in decoded_msg:\n",
        "        print('Error')\n",
        "    else:\n",
        "        print('No error')\n",
        "\n",
        "# Example usage:\n",
        "received_sig1 = '1010101'\n",
        "k = 3\n",
        "HamDecoding(received_sig1, k)  # Output: 'No error'\n",
        "\n",
        "received_sig2 = '1010001'\n",
        "k = 3\n",
        "HamDecoding(received_sig2, k)  # Output: 'Error at Position 5, and correct data: 1010101'\n",
        "\n",
        "received_sig3 = '10110010011'\n",
        "k = 4\n",
        "HamDecoding(received_sig3, k)  # Output: 'No error'\n",
        "\n",
        "received_sig4 = '10110000011'\n",
        "k = 4\n",
        "HamDecoding(received_sig4, k)  # Output: 'Error at Position 7, and correct data: 10110010011'\n",
        "\n"
      ],
      "metadata": {
        "colab": {
          "base_uri": "https://localhost:8080/"
        },
        "id": "OTvglHgtJCy-",
        "outputId": "ac0727f4-afd7-4f95-ce48-f1ab4ae1e216"
      },
      "execution_count": 4,
      "outputs": [
        {
          "output_type": "stream",
          "name": "stdout",
          "text": [
            "k = 3 # number of extra parity bits\n",
            "010101\n",
            "k = 4 # number of extra parity bits\n",
            "1110010011\n",
            "No error\n",
            "Error at Position 4, and correct data: No error\n",
            "Error at Position 4, and correct data: No error\n",
            "Error at Position 2, and correct data: No error\n"
          ]
        }
      ]
    }
  ]
}